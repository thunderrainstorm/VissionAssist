{
 "cells": [
  {
   "cell_type": "code",
   "execution_count": null,
   "id": "53ab925a",
   "metadata": {},
   "outputs": [],
   "source": [
    "!pip install gpiozero"
   ]
  },
  {
   "cell_type": "code",
   "execution_count": null,
   "id": "7a1e1cb7-03f8-483a-ad2b-6540abb424e2",
   "metadata": {},
   "outputs": [],
   "source": [
    "import logging\n",
    "from ultralytics import YOLO\n",
    "import cv2\n",
    "import cvzone\n",
    "import math\n",
    "import time\n",
    "import pyttsx3\n",
    "from gpiozero import DistanceSensor, AngularServo"
   ]
  },
  {
   "cell_type": "code",
   "execution_count": null,
   "id": "8cdf7564-ac06-4113-9986-98720f8a7233",
   "metadata": {},
   "outputs": [],
   "source": [
    "tts_engine = pyttsx3.init()\n",
    "\n",
    "voices = tts_engine.getProperty('voices')\n",
    "tts_engine.setProperty('voice', voices[1].id) \n",
    "tts_engine.setProperty('rate', 150)\n",
    "tts_engine.setProperty('volume', 0.9)"
   ]
  },
  {
   "cell_type": "code",
   "execution_count": null,
   "id": "adf09ca3-8f76-4624-8a0b-a340a95d1647",
   "metadata": {},
   "outputs": [],
   "source": [
    "#To avoid YOLO from logging unnecessarily. Prevents cluttering\n",
    "logging.getLogger(\"ultralytics\").setLevel(logging.WARNING)\n",
    "\n",
    "# url = \"http://192.168.126.75:8080/video\"  # mobile cam URL\n",
    "cap = cv2.VideoCapture(0)\n",
    "cap.set(3, 1280)  #width\n",
    "cap.set(4, 720)   #height\n",
    "\n",
    "model = YOLO('yolo11m.pt')\n",
    "\n",
    "#coco classes\n",
    "with open(\"coco.names\", \"r\") as coco_name_file:\n",
    "    classNames = [line.strip() for line in coco_name_file.readlines()]"
   ]
  },
  {
   "cell_type": "code",
   "execution_count": null,
   "id": "fce650c7",
   "metadata": {},
   "outputs": [],
   "source": [
    "# Initialize distance sensor and servo motor\n",
    "ultrasonic_sensor = DistanceSensor(echo=17, trigger=4) \n",
    "servo = AngularServo(18, min_angle=-90, max_angle=90)\n",
    "\n",
    "#object tracking to prevent re-detection within time threshold\n",
    "# Set up object detection tracking\n",
    "detected_objects = set()  \n",
    "previously_detected = set()  \n",
    "announcement_delay = 5  \n",
    "last_announcement_time = time.time()  \n",
    "\n",
    "prev_frame_time = 0\n",
    "new_frame_time = 0\n",
    "\n",
    "# Screen width for determining object position\n",
    "screen_width = 1280"
   ]
  },
  {
   "cell_type": "code",
   "execution_count": null,
   "id": "f51fbfa6-0029-48c2-ac7d-63658623475f",
   "metadata": {},
   "outputs": [
    {
     "name": "stdout",
     "output_type": "stream",
     "text": [
      "person with confidence 0.95\n",
      "cup with confidence 0.35\n",
      "cup with confidence 0.39\n",
      "toothbrush with confidence 0.44\n",
      "cell phone with confidence 0.63\n",
      "cell phone with confidence 0.33\n",
      "cell phone with confidence 0.28\n",
      "cell phone with confidence 0.34\n",
      "chair with confidence 0.53\n",
      "cell phone with confidence 0.43\n"
     ]
    }
   ],
   "source": [
    "def measure_distance(direction):\n",
    "    \"\"\"Rotate servo and measure distance based on the object's direction.\"\"\"\n",
    "    if direction == \"left\":\n",
    "        servo.angle = -45\n",
    "    elif direction == \"right\":\n",
    "        servo.angle = 45\n",
    "    else:\n",
    "        servo.angle = 0  # center position\n",
    "\n",
    "    # Small delay to allow servo to reach position\n",
    "    time.sleep(0.1)\n",
    "    distance = ultrasonic_sensor.distance * 100  # Convert to centimeters\n",
    "    return round(distance, 1)"
   ]
  },
  {
   "cell_type": "markdown",
   "id": "35cc9aa0",
   "metadata": {},
   "source": [
    "Start the camera and read objects, calculate distance through ultrasonic sensor and direction through servo motor."
   ]
  },
  {
   "cell_type": "code",
   "execution_count": null,
   "id": "53ddff11",
   "metadata": {},
   "outputs": [],
   "source": [
    "while True:\n",
    "    new_frame_time = time.time()\n",
    "    success, img = cap.read()\n",
    "    if not success:\n",
    "        print(\"Failed to capture image from camera.\")\n",
    "        tts_engine.say(\"Error, Failed to capture image from camera. Contact support\")\n",
    "        break\n",
    "    \n",
    "    results = model(img, stream=True)\n",
    "    current_detected_objects = set()  # Reset current detected objects for this frame\n",
    "\n",
    "    for r in results:\n",
    "        boxes = r.boxes\n",
    "        for box in boxes:\n",
    "            x1, y1, x2, y2 = map(int, box.xyxy[0])\n",
    "            w, h = x2 - x1, y2 - y1\n",
    "            cvzone.cornerRect(img, (x1, y1, w, h))\n",
    "\n",
    "            conf = math.ceil((box.conf[0] * 100)) / 100\n",
    "            cls = int(box.cls[0])\n",
    "            class_name = classNames[cls]\n",
    "\n",
    "            # Determine the direction of the detected object\n",
    "            object_center_x = (x1 + x2) / 2\n",
    "            if object_center_x < screen_width / 3:\n",
    "                direction = \"left\"\n",
    "            elif object_center_x > 2 * screen_width / 3:\n",
    "                direction = \"right\"\n",
    "            else:\n",
    "                direction = \"center\"\n",
    "\n",
    "            # Add to the current detected objects\n",
    "            current_detected_objects.add((class_name, direction))\n",
    "\n",
    "            display_text = f'{class_name} {conf} {direction}'\n",
    "            cvzone.putTextRect(img, display_text, (max(0, x1), max(35, y1)), scale=1, thickness=1)\n",
    "\n",
    "    # Check for new objects that have entered the frame\n",
    "    for obj, direction in current_detected_objects:\n",
    "        if obj not in detected_objects and time.time() - last_announcement_time >= announcement_delay:\n",
    "            # Measure the distance in the specified direction\n",
    "            distance = measure_distance(direction)\n",
    "            announcement = f\"{obj} detected on the {direction}, distance is {distance} centimeters\"\n",
    "            tts_engine.say(announcement)\n",
    "            tts_engine.runAndWait()\n",
    "            detected_objects.add(obj)\n",
    "            last_announcement_time = time.time()\n",
    "\n",
    "    # Check for objects that have exited the frame\n",
    "    for obj in list(detected_objects):\n",
    "        if obj not in [o[0] for o in current_detected_objects]:  # Only the class name\n",
    "            previously_detected.add(obj)\n",
    "            detected_objects.remove(obj)\n",
    "\n",
    "    # Update FPS\n",
    "    fps = 1 / (new_frame_time - prev_frame_time)\n",
    "    prev_frame_time = new_frame_time\n",
    "    print(f\"FPS: {fps}\")\n",
    "\n",
    "    cv2.imshow(\"Image\", img)\n",
    "    if cv2.waitKey(1) & 0xFF == ord('q'):\n",
    "        print(\"Exiting program...\")\n",
    "        break"
   ]
  },
  {
   "cell_type": "code",
   "execution_count": null,
   "id": "60344741-af7a-4f48-b74e-af6bd44e17e5",
   "metadata": {},
   "outputs": [],
   "source": [
    "cap.release()\n",
    "cv2.destroyAllWindows()"
   ]
  }
 ],
 "metadata": {
  "kernelspec": {
   "display_name": "Python 3 (ipykernel)",
   "language": "python",
   "name": "python3"
  },
  "language_info": {
   "codemirror_mode": {
    "name": "ipython",
    "version": 3
   },
   "file_extension": ".py",
   "mimetype": "text/x-python",
   "name": "python",
   "nbconvert_exporter": "python",
   "pygments_lexer": "ipython3",
   "version": "3.12.4"
  }
 },
 "nbformat": 4,
 "nbformat_minor": 5
}
