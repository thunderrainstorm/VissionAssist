{
 "cells": [
  {
   "cell_type": "code",
   "execution_count": 8,
   "id": "7a1e1cb7-03f8-483a-ad2b-6540abb424e2",
   "metadata": {},
   "outputs": [],
   "source": [
    "import logging\n",
    "from ultralytics import YOLO\n",
    "import cv2\n",
    "import cvzone\n",
    "import math\n",
    "import time\n",
    "import pyttsx3"
   ]
  },
  {
   "cell_type": "code",
   "execution_count": 9,
   "id": "8cdf7564-ac06-4113-9986-98720f8a7233",
   "metadata": {},
   "outputs": [],
   "source": [
    "tts_engine = pyttsx3.init()\n",
    "\n",
    "voices = tts_engine.getProperty('voices')\n",
    "tts_engine.setProperty('voice', voices[1].id) \n",
    "tts_engine.setProperty('rate', 150)"
   ]
  },
  {
   "cell_type": "code",
   "execution_count": 10,
   "id": "adf09ca3-8f76-4624-8a0b-a340a95d1647",
   "metadata": {},
   "outputs": [],
   "source": [
    "#To avoid YOLO from logging unnecessarily. Prevents cluttering\n",
    "logging.getLogger(\"ultralytics\").setLevel(logging.WARNING)\n",
    "\n",
    "cap = cv2.VideoCapture(0)\n",
    "cap.set(3, 1280)  #width\n",
    "cap.set(4, 720)   #height\n",
    "\n",
    "model = YOLO(\"../Yolo-Weights/yolov8n.pt\")\n",
    "\n",
    "#coco classes\n",
    "with open(\"coco.names\", \"r\") as coco_name_file:\n",
    "    classNames = [line.strip() for line in coco_name_file.readlines()]\n",
    "classNames = [\"person\", \"bicycle\", \"car\", \"motorbike\", \"aeroplane\", \"bus\", \"train\", \"truck\", \"boat\",\n",
    "              \"traffic light\", \"fire hydrant\", \"stop sign\", \"parking meter\", \"bench\", \"bird\", \"cat\",\n",
    "              \"dog\", \"horse\", \"sheep\", \"cow\", \"elephant\", \"bear\", \"zebra\", \"giraffe\", \"backpack\", \"umbrella\",\n",
    "              \"handbag\", \"tie\", \"suitcase\", \"frisbee\", \"skis\", \"snowboard\", \"sports ball\", \"kite\", \"baseball bat\",\n",
    "              \"baseball glove\", \"skateboard\", \"surfboard\", \"tennis racket\", \"bottle\", \"wine glass\", \"cup\",\n",
    "              \"fork\", \"knife\", \"spoon\", \"bowl\", \"banana\", \"apple\", \"sandwich\", \"orange\", \"broccoli\",\n",
    "              \"carrot\", \"hot dog\", \"pizza\", \"donut\", \"cake\", \"chair\", \"sofa\", \"pottedplant\", \"bed\",\n",
    "              \"diningtable\", \"toilet\", \"tvmonitor\", \"laptop\", \"mouse\", \"remote\", \"keyboard\", \"cell phone\",\n",
    "              \"microwave\", \"oven\", \"toaster\", \"sink\", \"refrigerator\", \"book\", \"clock\", \"vase\", \"scissors\",\n",
    "              \"teddy bear\", \"hair drier\", \"toothbrush\"]"
   ]
  },
  {
   "cell_type": "code",
   "execution_count": 11,
   "id": "2a8b29b3-81df-4118-95f7-b5b3b6eec240",
   "metadata": {},
   "outputs": [],
   "source": [
    "def get_centroid(box):\n",
    "    x1, y1, x2, y2 = box\n",
    "    cx = (x1+x2)//2\n",
    "    cy = (y1+y2)//2\n",
    "    return (cx, cy)\n",
    "\n",
    "def centroid_distance(box1, box2):\n",
    "    cx1, cy1 = get_centroid(box1)\n",
    "    cx2, cy2 = get_centroid(box2)\n",
    "    return math.sqrt((cx2 - cx1)**2 + (cy2 - cy1)**2)\n",
    "\n",
    "def is_new_detection(box, previous_boxes, distance_threshold=100):\n",
    "    for prev_box in previous_boxes:\n",
    "        if centroid_distance(box, prev_box) < distance_threshold:\n",
    "            return False\n",
    "    return True\n",
    "\n",
    "def iou(box1, box2):\n",
    "    \"\"\"Function to calculate Intersection over Union (IoU) between two boxes\"\"\"\n",
    "    x1, y1, x2, y2 = box1\n",
    "    x1_, y1_, x2_, y2_ = box2\n",
    "\n",
    "    xi1 = max(x1, x1_)\n",
    "    yi1 = max(y1, y1_)\n",
    "    xi2 = min(x2, x2_)\n",
    "    yi2 = min(y2, y2_)\n",
    "\n",
    "    inter_area = max(0, xi2 - xi1) * max(0, yi2 - yi1)\n",
    "    box1_area = (x2 - x1) * (y2 - y1)\n",
    "    box2_area = (x2_ - x1_) * (y2_ - y1_)\n",
    "\n",
    "    union_area = box1_area + box2_area - inter_area\n",
    "    return  inter_area / union_area if union_area != 0 else 0\n",
    "\n",
    "def is_new_detection(box, previous_boxes, threshold=0.3):\n",
    "    for prev_box in previous_boxes:\n",
    "        if iou(box, prev_box) > threshold:\n",
    "            return False\n",
    "    return True"
   ]
  },
  {
   "cell_type": "code",
   "execution_count": 12,
   "id": "f51fbfa6-0029-48c2-ac7d-63658623475f",
   "metadata": {
    "scrolled": true
   },
   "outputs": [
    {
     "name": "stdout",
     "output_type": "stream",
     "text": [
      "person with confidence 0.96\n"
     ]
    }
   ],
   "source": [
    "previous_boxes = []\n",
    "limit = 3\n",
    "while True:\n",
    "    new_frame_time = time.time()\n",
    "    success, img = cap.read()\n",
    "\n",
    "    results = model(img)\n",
    "    detected_person = False\n",
    "    detected_light = False\n",
    "    current_boxes = []\n",
    "    for r in results:\n",
    "        boxes = r.boxes\n",
    "        for box in boxes:\n",
    "            x1, y1, x2, y2 = box.xyxy[0]\n",
    "            x1, y1, x2, y2 = int(x1), int(y1), int(x2), int(y2)\n",
    "            w, h = x2 - x1, y2 - y1\n",
    "\n",
    "            current_box = (x1, y1, x2, y2)\n",
    "\n",
    "            if is_new_detection(current_box, previous_boxes):\n",
    "                current_boxes.append(current_box)\n",
    "                cvzone.cornerRect(img, (x1, y1, w, h))\n",
    "\n",
    "                conf = math.ceil((box.conf[0] * 100)) / 100\n",
    "                cls = int(box.cls[0])\n",
    "                object_name = classNames[cls]\n",
    "\n",
    "                # Check for person or light in detected objects\n",
    "                if object_name == \"person\":\n",
    "                    detected_person = True\n",
    "                elif object_name == \"traffic light\":\n",
    "                    detected_light = True\n",
    "                    \n",
    "                cvzone.putTextRect(img, f'{classNames[cls]} {conf}', (max(0, x1), max(35, y1)), scale=1, thickness=1)\n",
    "                print(f\"{classNames[cls]} with confidence {conf}\")\n",
    "                announcement = f\"{classNames[cls]} detected\"\n",
    "                tts_engine.say(announcement)\n",
    "                tts_engine.runAndWait()\n",
    "                \n",
    "\n",
    "      # Check for unsafe condition: no person and no light in the detected objects\n",
    "    detected_classes = [classNames[int(box.cls[0])] for r in results for box in r.boxes]\n",
    "    if 'person' not in detected_classes and 'traffic light' not in detected_classes:\n",
    "        print(\"Warning: Unsafe condition detected! No person and no light.\")\n",
    "        tts_engine.say(\"Warning: Unsafe condition detected! No person and no light.\")\n",
    "        tts_engine.runAndWait()\n",
    "    previous_boxes.extend(current_boxes)\n",
    "     \n",
    "    previous_boxes.extend(current_boxes)\n",
    "    if(len(previous_boxes) > limit):\n",
    "        previous_boxes = previous_boxes[-limit:-1]\n",
    "        \n",
    "    cv2.imshow(\"Image\", img)\n",
    "    if cv2.waitKey(1) & 0xFF == ord('q'):\n",
    "        break\n",
    "\n",
    "cap.release()\n",
    "cv2.destroyAllWindows()"
   ]
  },
  {
   "cell_type": "code",
   "execution_count": null,
   "id": "c2f89fca-2697-483d-be4c-bf4bce55f1ff",
   "metadata": {},
   "outputs": [],
   "source": []
  },
  {
   "cell_type": "code",
   "execution_count": null,
   "id": "5442163b-ccf5-4703-952c-a7c1a824434f",
   "metadata": {},
   "outputs": [],
   "source": []
  }
 ],
 "metadata": {
  "kernelspec": {
   "display_name": "Python 3 (ipykernel)",
   "language": "python",
   "name": "python3"
  },
  "language_info": {
   "codemirror_mode": {
    "name": "ipython",
    "version": 3
   },
   "file_extension": ".py",
   "mimetype": "text/x-python",
   "name": "python",
   "nbconvert_exporter": "python",
   "pygments_lexer": "ipython3",
   "version": "3.12.4"
  }
 },
 "nbformat": 4,
 "nbformat_minor": 5
}
